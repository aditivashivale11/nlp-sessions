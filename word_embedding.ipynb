{
  "nbformat": 4,
  "nbformat_minor": 0,
  "metadata": {
    "colab": {
      "provenance": [],
      "gpuType": "T4",
      "authorship_tag": "ABX9TyOgTMT8btq7BrBeRxFs+JeL",
      "include_colab_link": true
    },
    "kernelspec": {
      "name": "python3",
      "display_name": "Python 3"
    },
    "language_info": {
      "name": "python"
    },
    "accelerator": "GPU"
  },
  "cells": [
    {
      "cell_type": "markdown",
      "metadata": {
        "id": "view-in-github",
        "colab_type": "text"
      },
      "source": [
        "<a href=\"https://colab.research.google.com/github/aditivashivale11/nlp-sessions/blob/main/word_embedding.ipynb\" target=\"_parent\"><img src=\"https://colab.research.google.com/assets/colab-badge.svg\" alt=\"Open In Colab\"/></a>"
      ]
    },
    {
      "cell_type": "code",
      "source": [
        "## Libraries used Tensorflow and kera"
      ],
      "metadata": {
        "id": "ft1g-cTwEWUn"
      },
      "execution_count": null,
      "outputs": []
    },
    {
      "cell_type": "code",
      "execution_count": 5,
      "metadata": {
        "colab": {
          "base_uri": "https://localhost:8080/",
          "height": 1000
        },
        "id": "wqo_UOl6EHEh",
        "outputId": "1d8b47d9-981f-4ae5-fd3c-5402c9a0c316"
      },
      "outputs": [
        {
          "output_type": "stream",
          "name": "stdout",
          "text": [
            "Collecting tensorflow-gpu==2.10.0\n",
            "  Downloading tensorflow_gpu-2.10.0-cp310-cp310-manylinux_2_17_x86_64.manylinux2014_x86_64.whl.metadata (3.1 kB)\n",
            "Requirement already satisfied: absl-py>=1.0.0 in /usr/local/lib/python3.10/dist-packages (from tensorflow-gpu==2.10.0) (1.4.0)\n",
            "Requirement already satisfied: astunparse>=1.6.0 in /usr/local/lib/python3.10/dist-packages (from tensorflow-gpu==2.10.0) (1.6.3)\n",
            "Requirement already satisfied: flatbuffers>=2.0 in /usr/local/lib/python3.10/dist-packages (from tensorflow-gpu==2.10.0) (24.3.25)\n",
            "Collecting gast<=0.4.0,>=0.2.1 (from tensorflow-gpu==2.10.0)\n",
            "  Downloading gast-0.4.0-py3-none-any.whl.metadata (1.1 kB)\n",
            "Requirement already satisfied: google-pasta>=0.1.1 in /usr/local/lib/python3.10/dist-packages (from tensorflow-gpu==2.10.0) (0.2.0)\n",
            "Requirement already satisfied: grpcio<2.0,>=1.24.3 in /usr/local/lib/python3.10/dist-packages (from tensorflow-gpu==2.10.0) (1.68.1)\n",
            "Requirement already satisfied: h5py>=2.9.0 in /usr/local/lib/python3.10/dist-packages (from tensorflow-gpu==2.10.0) (3.12.1)\n",
            "Collecting keras<2.11,>=2.10.0 (from tensorflow-gpu==2.10.0)\n",
            "  Downloading keras-2.10.0-py2.py3-none-any.whl.metadata (1.3 kB)\n",
            "Collecting keras-preprocessing>=1.1.1 (from tensorflow-gpu==2.10.0)\n",
            "  Downloading Keras_Preprocessing-1.1.2-py2.py3-none-any.whl.metadata (1.9 kB)\n",
            "Requirement already satisfied: libclang>=13.0.0 in /usr/local/lib/python3.10/dist-packages (from tensorflow-gpu==2.10.0) (18.1.1)\n",
            "Requirement already satisfied: numpy>=1.20 in /usr/local/lib/python3.10/dist-packages (from tensorflow-gpu==2.10.0) (1.26.4)\n",
            "Requirement already satisfied: opt-einsum>=2.3.2 in /usr/local/lib/python3.10/dist-packages (from tensorflow-gpu==2.10.0) (3.4.0)\n",
            "Requirement already satisfied: packaging in /usr/local/lib/python3.10/dist-packages (from tensorflow-gpu==2.10.0) (24.2)\n",
            "Collecting protobuf<3.20,>=3.9.2 (from tensorflow-gpu==2.10.0)\n",
            "  Downloading protobuf-3.19.6-cp310-cp310-manylinux_2_17_x86_64.manylinux2014_x86_64.whl.metadata (787 bytes)\n",
            "Requirement already satisfied: setuptools in /usr/local/lib/python3.10/dist-packages (from tensorflow-gpu==2.10.0) (75.1.0)\n",
            "Requirement already satisfied: six>=1.12.0 in /usr/local/lib/python3.10/dist-packages (from tensorflow-gpu==2.10.0) (1.17.0)\n",
            "Collecting tensorboard<2.11,>=2.10 (from tensorflow-gpu==2.10.0)\n",
            "  Downloading tensorboard-2.10.1-py3-none-any.whl.metadata (1.9 kB)\n",
            "Requirement already satisfied: tensorflow-io-gcs-filesystem>=0.23.1 in /usr/local/lib/python3.10/dist-packages (from tensorflow-gpu==2.10.0) (0.37.1)\n",
            "Collecting tensorflow-estimator<2.11,>=2.10.0 (from tensorflow-gpu==2.10.0)\n",
            "  Downloading tensorflow_estimator-2.10.0-py2.py3-none-any.whl.metadata (1.3 kB)\n",
            "Requirement already satisfied: termcolor>=1.1.0 in /usr/local/lib/python3.10/dist-packages (from tensorflow-gpu==2.10.0) (2.5.0)\n",
            "Requirement already satisfied: typing-extensions>=3.6.6 in /usr/local/lib/python3.10/dist-packages (from tensorflow-gpu==2.10.0) (4.12.2)\n",
            "Requirement already satisfied: wrapt>=1.11.0 in /usr/local/lib/python3.10/dist-packages (from tensorflow-gpu==2.10.0) (1.17.0)\n",
            "Requirement already satisfied: wheel<1.0,>=0.23.0 in /usr/local/lib/python3.10/dist-packages (from astunparse>=1.6.0->tensorflow-gpu==2.10.0) (0.45.1)\n",
            "Requirement already satisfied: google-auth<3,>=1.6.3 in /usr/local/lib/python3.10/dist-packages (from tensorboard<2.11,>=2.10->tensorflow-gpu==2.10.0) (2.27.0)\n",
            "Collecting google-auth-oauthlib<0.5,>=0.4.1 (from tensorboard<2.11,>=2.10->tensorflow-gpu==2.10.0)\n",
            "  Downloading google_auth_oauthlib-0.4.6-py2.py3-none-any.whl.metadata (2.7 kB)\n",
            "Requirement already satisfied: markdown>=2.6.8 in /usr/local/lib/python3.10/dist-packages (from tensorboard<2.11,>=2.10->tensorflow-gpu==2.10.0) (3.7)\n",
            "Requirement already satisfied: requests<3,>=2.21.0 in /usr/local/lib/python3.10/dist-packages (from tensorboard<2.11,>=2.10->tensorflow-gpu==2.10.0) (2.32.3)\n",
            "Collecting tensorboard-data-server<0.7.0,>=0.6.0 (from tensorboard<2.11,>=2.10->tensorflow-gpu==2.10.0)\n",
            "  Downloading tensorboard_data_server-0.6.1-py3-none-manylinux2010_x86_64.whl.metadata (1.1 kB)\n",
            "Collecting tensorboard-plugin-wit>=1.6.0 (from tensorboard<2.11,>=2.10->tensorflow-gpu==2.10.0)\n",
            "  Downloading tensorboard_plugin_wit-1.8.1-py3-none-any.whl.metadata (873 bytes)\n",
            "Requirement already satisfied: werkzeug>=1.0.1 in /usr/local/lib/python3.10/dist-packages (from tensorboard<2.11,>=2.10->tensorflow-gpu==2.10.0) (3.1.3)\n",
            "Requirement already satisfied: cachetools<6.0,>=2.0.0 in /usr/local/lib/python3.10/dist-packages (from google-auth<3,>=1.6.3->tensorboard<2.11,>=2.10->tensorflow-gpu==2.10.0) (5.5.0)\n",
            "Requirement already satisfied: pyasn1-modules>=0.2.1 in /usr/local/lib/python3.10/dist-packages (from google-auth<3,>=1.6.3->tensorboard<2.11,>=2.10->tensorflow-gpu==2.10.0) (0.4.1)\n",
            "Requirement already satisfied: rsa<5,>=3.1.4 in /usr/local/lib/python3.10/dist-packages (from google-auth<3,>=1.6.3->tensorboard<2.11,>=2.10->tensorflow-gpu==2.10.0) (4.9)\n",
            "Requirement already satisfied: requests-oauthlib>=0.7.0 in /usr/local/lib/python3.10/dist-packages (from google-auth-oauthlib<0.5,>=0.4.1->tensorboard<2.11,>=2.10->tensorflow-gpu==2.10.0) (1.3.1)\n",
            "Requirement already satisfied: charset-normalizer<4,>=2 in /usr/local/lib/python3.10/dist-packages (from requests<3,>=2.21.0->tensorboard<2.11,>=2.10->tensorflow-gpu==2.10.0) (3.4.0)\n",
            "Requirement already satisfied: idna<4,>=2.5 in /usr/local/lib/python3.10/dist-packages (from requests<3,>=2.21.0->tensorboard<2.11,>=2.10->tensorflow-gpu==2.10.0) (3.10)\n",
            "Requirement already satisfied: urllib3<3,>=1.21.1 in /usr/local/lib/python3.10/dist-packages (from requests<3,>=2.21.0->tensorboard<2.11,>=2.10->tensorflow-gpu==2.10.0) (2.2.3)\n",
            "Requirement already satisfied: certifi>=2017.4.17 in /usr/local/lib/python3.10/dist-packages (from requests<3,>=2.21.0->tensorboard<2.11,>=2.10->tensorflow-gpu==2.10.0) (2024.12.14)\n",
            "Requirement already satisfied: MarkupSafe>=2.1.1 in /usr/local/lib/python3.10/dist-packages (from werkzeug>=1.0.1->tensorboard<2.11,>=2.10->tensorflow-gpu==2.10.0) (3.0.2)\n",
            "Requirement already satisfied: pyasn1<0.7.0,>=0.4.6 in /usr/local/lib/python3.10/dist-packages (from pyasn1-modules>=0.2.1->google-auth<3,>=1.6.3->tensorboard<2.11,>=2.10->tensorflow-gpu==2.10.0) (0.6.1)\n",
            "Requirement already satisfied: oauthlib>=3.0.0 in /usr/local/lib/python3.10/dist-packages (from requests-oauthlib>=0.7.0->google-auth-oauthlib<0.5,>=0.4.1->tensorboard<2.11,>=2.10->tensorflow-gpu==2.10.0) (3.2.2)\n",
            "Downloading tensorflow_gpu-2.10.0-cp310-cp310-manylinux_2_17_x86_64.manylinux2014_x86_64.whl (578.0 MB)\n",
            "\u001b[2K   \u001b[90m━━━━━━━━━━━━━━━━━━━━━━━━━━━━━━━━━━━━━━━━\u001b[0m \u001b[32m578.0/578.0 MB\u001b[0m \u001b[31m2.5 MB/s\u001b[0m eta \u001b[36m0:00:00\u001b[0m\n",
            "\u001b[?25hDownloading gast-0.4.0-py3-none-any.whl (9.8 kB)\n",
            "Downloading keras-2.10.0-py2.py3-none-any.whl (1.7 MB)\n",
            "\u001b[2K   \u001b[90m━━━━━━━━━━━━━━━━━━━━━━━━━━━━━━━━━━━━━━━━\u001b[0m \u001b[32m1.7/1.7 MB\u001b[0m \u001b[31m78.3 MB/s\u001b[0m eta \u001b[36m0:00:00\u001b[0m\n",
            "\u001b[?25hDownloading Keras_Preprocessing-1.1.2-py2.py3-none-any.whl (42 kB)\n",
            "\u001b[2K   \u001b[90m━━━━━━━━━━━━━━━━━━━━━━━━━━━━━━━━━━━━━━━━\u001b[0m \u001b[32m42.6/42.6 kB\u001b[0m \u001b[31m4.2 MB/s\u001b[0m eta \u001b[36m0:00:00\u001b[0m\n",
            "\u001b[?25hDownloading protobuf-3.19.6-cp310-cp310-manylinux_2_17_x86_64.manylinux2014_x86_64.whl (1.1 MB)\n",
            "\u001b[2K   \u001b[90m━━━━━━━━━━━━━━━━━━━━━━━━━━━━━━━━━━━━━━━━\u001b[0m \u001b[32m1.1/1.1 MB\u001b[0m \u001b[31m62.7 MB/s\u001b[0m eta \u001b[36m0:00:00\u001b[0m\n",
            "\u001b[?25hDownloading tensorboard-2.10.1-py3-none-any.whl (5.9 MB)\n",
            "\u001b[2K   \u001b[90m━━━━━━━━━━━━━━━━━━━━━━━━━━━━━━━━━━━━━━━━\u001b[0m \u001b[32m5.9/5.9 MB\u001b[0m \u001b[31m110.7 MB/s\u001b[0m eta \u001b[36m0:00:00\u001b[0m\n",
            "\u001b[?25hDownloading tensorflow_estimator-2.10.0-py2.py3-none-any.whl (438 kB)\n",
            "\u001b[2K   \u001b[90m━━━━━━━━━━━━━━━━━━━━━━━━━━━━━━━━━━━━━━━━\u001b[0m \u001b[32m438.7/438.7 kB\u001b[0m \u001b[31m36.3 MB/s\u001b[0m eta \u001b[36m0:00:00\u001b[0m\n",
            "\u001b[?25hDownloading google_auth_oauthlib-0.4.6-py2.py3-none-any.whl (18 kB)\n",
            "Downloading tensorboard_data_server-0.6.1-py3-none-manylinux2010_x86_64.whl (4.9 MB)\n",
            "\u001b[2K   \u001b[90m━━━━━━━━━━━━━━━━━━━━━━━━━━━━━━━━━━━━━━━━\u001b[0m \u001b[32m4.9/4.9 MB\u001b[0m \u001b[31m109.9 MB/s\u001b[0m eta \u001b[36m0:00:00\u001b[0m\n",
            "\u001b[?25hDownloading tensorboard_plugin_wit-1.8.1-py3-none-any.whl (781 kB)\n",
            "\u001b[2K   \u001b[90m━━━━━━━━━━━━━━━━━━━━━━━━━━━━━━━━━━━━━━━━\u001b[0m \u001b[32m781.3/781.3 kB\u001b[0m \u001b[31m54.0 MB/s\u001b[0m eta \u001b[36m0:00:00\u001b[0m\n",
            "\u001b[?25hInstalling collected packages: tensorboard-plugin-wit, keras, tensorflow-estimator, tensorboard-data-server, protobuf, keras-preprocessing, gast, google-auth-oauthlib, tensorboard, tensorflow-gpu\n",
            "  Attempting uninstall: keras\n",
            "    Found existing installation: keras 3.5.0\n",
            "    Uninstalling keras-3.5.0:\n",
            "      Successfully uninstalled keras-3.5.0\n",
            "  Attempting uninstall: tensorboard-data-server\n",
            "    Found existing installation: tensorboard-data-server 0.7.2\n",
            "    Uninstalling tensorboard-data-server-0.7.2:\n",
            "      Successfully uninstalled tensorboard-data-server-0.7.2\n",
            "  Attempting uninstall: protobuf\n",
            "    Found existing installation: protobuf 4.25.5\n",
            "    Uninstalling protobuf-4.25.5:\n",
            "      Successfully uninstalled protobuf-4.25.5\n",
            "  Attempting uninstall: gast\n",
            "    Found existing installation: gast 0.6.0\n",
            "    Uninstalling gast-0.6.0:\n",
            "      Successfully uninstalled gast-0.6.0\n",
            "  Attempting uninstall: google-auth-oauthlib\n",
            "    Found existing installation: google-auth-oauthlib 1.2.1\n",
            "    Uninstalling google-auth-oauthlib-1.2.1:\n",
            "      Successfully uninstalled google-auth-oauthlib-1.2.1\n",
            "  Attempting uninstall: tensorboard\n",
            "    Found existing installation: tensorboard 2.17.1\n",
            "    Uninstalling tensorboard-2.17.1:\n",
            "      Successfully uninstalled tensorboard-2.17.1\n",
            "\u001b[31mERROR: pip's dependency resolver does not currently take into account all the packages that are installed. This behaviour is the source of the following dependency conflicts.\n",
            "google-ai-generativelanguage 0.6.10 requires protobuf!=4.21.0,!=4.21.1,!=4.21.2,!=4.21.3,!=4.21.4,!=4.21.5,<6.0.0dev,>=3.20.2, but you have protobuf 3.19.6 which is incompatible.\n",
            "google-cloud-aiplatform 1.74.0 requires protobuf!=4.21.0,!=4.21.1,!=4.21.2,!=4.21.3,!=4.21.4,!=4.21.5,<6.0.0dev,>=3.20.2, but you have protobuf 3.19.6 which is incompatible.\n",
            "google-cloud-bigquery-connection 1.17.0 requires protobuf!=4.21.0,!=4.21.1,!=4.21.2,!=4.21.3,!=4.21.4,!=4.21.5,<6.0.0dev,>=3.20.2, but you have protobuf 3.19.6 which is incompatible.\n",
            "google-cloud-bigquery-storage 2.27.0 requires protobuf!=3.20.0,!=3.20.1,!=4.21.0,!=4.21.1,!=4.21.2,!=4.21.3,!=4.21.4,!=4.21.5,<6.0.0dev,>=3.20.2, but you have protobuf 3.19.6 which is incompatible.\n",
            "google-cloud-bigtable 2.27.0 requires protobuf!=4.21.0,!=4.21.1,!=4.21.2,!=4.21.3,!=4.21.4,!=4.21.5,<6.0.0dev,>=3.20.2, but you have protobuf 3.19.6 which is incompatible.\n",
            "google-cloud-datastore 2.20.2 requires protobuf!=3.20.0,!=3.20.1,!=4.21.0,!=4.21.1,!=4.21.2,!=4.21.3,!=4.21.4,!=4.21.5,<6.0.0dev,>=3.20.2, but you have protobuf 3.19.6 which is incompatible.\n",
            "google-cloud-firestore 2.19.0 requires protobuf!=3.20.0,!=3.20.1,!=4.21.0,!=4.21.1,!=4.21.2,!=4.21.3,!=4.21.4,!=4.21.5,<6.0.0dev,>=3.20.2, but you have protobuf 3.19.6 which is incompatible.\n",
            "google-cloud-functions 1.19.0 requires protobuf!=4.21.0,!=4.21.1,!=4.21.2,!=4.21.3,!=4.21.4,!=4.21.5,<6.0.0dev,>=3.20.2, but you have protobuf 3.19.6 which is incompatible.\n",
            "google-cloud-iam 2.17.0 requires protobuf!=4.21.0,!=4.21.1,!=4.21.2,!=4.21.3,!=4.21.4,!=4.21.5,<6.0.0dev,>=3.20.2, but you have protobuf 3.19.6 which is incompatible.\n",
            "google-cloud-language 2.16.0 requires protobuf!=4.21.0,!=4.21.1,!=4.21.2,!=4.21.3,!=4.21.4,!=4.21.5,<6.0.0dev,>=3.20.2, but you have protobuf 3.19.6 which is incompatible.\n",
            "google-cloud-pubsub 2.27.1 requires protobuf!=4.21.0,!=4.21.1,!=4.21.2,!=4.21.3,!=4.21.4,!=4.21.5,<6.0.0dev,>=3.20.2, but you have protobuf 3.19.6 which is incompatible.\n",
            "google-cloud-resource-manager 1.14.0 requires protobuf!=4.21.0,!=4.21.1,!=4.21.2,!=4.21.3,!=4.21.4,!=4.21.5,<6.0.0dev,>=3.20.2, but you have protobuf 3.19.6 which is incompatible.\n",
            "google-cloud-translate 3.19.0 requires protobuf!=4.21.0,!=4.21.1,!=4.21.2,!=4.21.3,!=4.21.4,!=4.21.5,<6.0.0dev,>=3.20.2, but you have protobuf 3.19.6 which is incompatible.\n",
            "googleapis-common-protos 1.66.0 requires protobuf!=3.20.0,!=3.20.1,!=4.21.1,!=4.21.2,!=4.21.3,!=4.21.4,!=4.21.5,<6.0.0.dev0,>=3.20.2, but you have protobuf 3.19.6 which is incompatible.\n",
            "grpc-google-iam-v1 0.13.1 requires protobuf!=4.21.1,!=4.21.2,!=4.21.3,!=4.21.4,!=4.21.5,<6.0.0dev,>=3.20.2, but you have protobuf 3.19.6 which is incompatible.\n",
            "grpcio-status 1.62.3 requires protobuf>=4.21.6, but you have protobuf 3.19.6 which is incompatible.\n",
            "pandas-gbq 0.25.0 requires google-auth-oauthlib>=0.7.0, but you have google-auth-oauthlib 0.4.6 which is incompatible.\n",
            "tensorflow 2.17.1 requires keras>=3.2.0, but you have keras 2.10.0 which is incompatible.\n",
            "tensorflow 2.17.1 requires protobuf!=4.21.0,!=4.21.1,!=4.21.2,!=4.21.3,!=4.21.4,!=4.21.5,<5.0.0dev,>=3.20.3, but you have protobuf 3.19.6 which is incompatible.\n",
            "tensorflow 2.17.1 requires tensorboard<2.18,>=2.17, but you have tensorboard 2.10.1 which is incompatible.\n",
            "tensorflow-datasets 4.9.7 requires protobuf>=3.20, but you have protobuf 3.19.6 which is incompatible.\n",
            "tensorflow-metadata 1.13.1 requires protobuf<5,>=3.20.3, but you have protobuf 3.19.6 which is incompatible.\u001b[0m\u001b[31m\n",
            "\u001b[0mSuccessfully installed gast-0.4.0 google-auth-oauthlib-0.4.6 keras-2.10.0 keras-preprocessing-1.1.2 protobuf-3.19.6 tensorboard-2.10.1 tensorboard-data-server-0.6.1 tensorboard-plugin-wit-1.8.1 tensorflow-estimator-2.10.0 tensorflow-gpu-2.10.0\n"
          ]
        },
        {
          "output_type": "display_data",
          "data": {
            "application/vnd.colab-display-data+json": {
              "pip_warning": {
                "packages": [
                  "google"
                ]
              },
              "id": "849fa35907574c129d18e8e190a663a7"
            }
          },
          "metadata": {}
        }
      ],
      "source": [
        "!pip install tensorflow-gpu==2.10.0"
      ]
    },
    {
      "cell_type": "code",
      "source": [
        "import tensorflow as tf\n",
        "print(tf.__version__)"
      ],
      "metadata": {
        "colab": {
          "base_uri": "https://localhost:8080/"
        },
        "id": "UlE1TosBETK7",
        "outputId": "771ecf25-feef-4cdd-c260-df34c82c39de"
      },
      "execution_count": 6,
      "outputs": [
        {
          "output_type": "stream",
          "name": "stdout",
          "text": [
            "2.10.0\n"
          ]
        }
      ]
    },
    {
      "cell_type": "code",
      "source": [
        "from tensorflow.keras.preprocessing.text import one_hot"
      ],
      "metadata": {
        "id": "WS9wi-eLF7XK"
      },
      "execution_count": 7,
      "outputs": []
    },
    {
      "cell_type": "code",
      "source": [
        "### sentences\n",
        "sent=[  'the glass of milk',\n",
        "     'the glass of juice',\n",
        "     'the cup of tea',\n",
        "    'I am a good boy',\n",
        "     'I am a good developer',\n",
        "     'understand the meaning of words',\n",
        "     'your videos are good']"
      ],
      "metadata": {
        "id": "-76e6tkWGLvt"
      },
      "execution_count": 8,
      "outputs": []
    },
    {
      "cell_type": "code",
      "source": [
        "sent"
      ],
      "metadata": {
        "colab": {
          "base_uri": "https://localhost:8080/"
        },
        "id": "8vT91U31GXoq",
        "outputId": "dfb080d6-d599-4541-c38a-64a59dac19b0"
      },
      "execution_count": 9,
      "outputs": [
        {
          "output_type": "execute_result",
          "data": {
            "text/plain": [
              "['the glass of milk',\n",
              " 'the glass of juice',\n",
              " 'the cup of tea',\n",
              " 'I am a good boy',\n",
              " 'I am a good developer',\n",
              " 'understand the meaning of words',\n",
              " 'your videos are good']"
            ]
          },
          "metadata": {},
          "execution_count": 9
        }
      ]
    },
    {
      "cell_type": "code",
      "source": [
        "## vocabulary size\n",
        "voc_size = 10000"
      ],
      "metadata": {
        "id": "Ge8fz-M8GdaA"
      },
      "execution_count": 10,
      "outputs": []
    },
    {
      "cell_type": "markdown",
      "source": [
        "**One-Hot Representation**"
      ],
      "metadata": {
        "id": "tTIZZRlWJaHA"
      }
    },
    {
      "cell_type": "code",
      "source": [
        "onehot_repr = [one_hot(words, voc_size)for words in sent]\n",
        "print(onehot_repr)"
      ],
      "metadata": {
        "colab": {
          "base_uri": "https://localhost:8080/"
        },
        "id": "FQymh5vJGmr-",
        "outputId": "dcf438a0-b24b-4897-b4e7-67caeea1befe"
      },
      "execution_count": 11,
      "outputs": [
        {
          "output_type": "stream",
          "name": "stdout",
          "text": [
            "[[867, 889, 7829, 6749], [867, 889, 7829, 3271], [867, 4649, 7829, 5182], [3677, 7147, 5158, 4314, 7074], [3677, 7147, 5158, 4314, 8067], [9756, 867, 5300, 7829, 9526], [6007, 3442, 3615, 4314]]\n"
          ]
        }
      ]
    },
    {
      "cell_type": "markdown",
      "source": [
        "**Word Embedding Representation**"
      ],
      "metadata": {
        "id": "cNcIGAK9J7Ai"
      }
    },
    {
      "cell_type": "code",
      "source": [
        "from tensorflow.keras.layers import Embedding\n",
        "from tensorflow.keras.preprocessing.sequence import pad_sequences\n",
        "from tensorflow.keras.models import Sequential"
      ],
      "metadata": {
        "id": "ih4AD8HqJzL7"
      },
      "execution_count": 12,
      "outputs": []
    },
    {
      "cell_type": "code",
      "source": [
        "import numpy as np"
      ],
      "metadata": {
        "id": "eYSrO_9SKUu2"
      },
      "execution_count": 13,
      "outputs": []
    },
    {
      "cell_type": "code",
      "source": [
        "## pre-padding\n",
        "sent_length = 8\n",
        "embedded_docs = pad_sequences(onehot_repr, padding='pre', maxlen=sent_length)\n",
        "print(embedded_docs)"
      ],
      "metadata": {
        "colab": {
          "base_uri": "https://localhost:8080/"
        },
        "id": "ocWZhJ1HK1Zq",
        "outputId": "ceb7f722-5dc2-4f32-8f2d-0edde2655b41"
      },
      "execution_count": 17,
      "outputs": [
        {
          "output_type": "stream",
          "name": "stdout",
          "text": [
            "[[   0    0    0    0  867  889 7829 6749]\n",
            " [   0    0    0    0  867  889 7829 3271]\n",
            " [   0    0    0    0  867 4649 7829 5182]\n",
            " [   0    0    0 3677 7147 5158 4314 7074]\n",
            " [   0    0    0 3677 7147 5158 4314 8067]\n",
            " [   0    0    0 9756  867 5300 7829 9526]\n",
            " [   0    0    0    0 6007 3442 3615 4314]]\n"
          ]
        }
      ]
    },
    {
      "cell_type": "code",
      "source": [
        "dim=10"
      ],
      "metadata": {
        "id": "jytfM1V9LHZV"
      },
      "execution_count": 18,
      "outputs": []
    },
    {
      "cell_type": "code",
      "source": [
        "model=Sequential()\n",
        "model.add(Embedding(voc_size,10,input_length=sent_length))\n",
        "model.compile('adam', 'mse')"
      ],
      "metadata": {
        "id": "I0X_PMgNML-0"
      },
      "execution_count": 19,
      "outputs": []
    },
    {
      "cell_type": "code",
      "source": [
        "model.summary()"
      ],
      "metadata": {
        "colab": {
          "base_uri": "https://localhost:8080/"
        },
        "id": "H5kqO24lM53e",
        "outputId": "ae671b86-a34b-4f2c-8c58-bba22a82003e"
      },
      "execution_count": 20,
      "outputs": [
        {
          "output_type": "stream",
          "name": "stdout",
          "text": [
            "Model: \"sequential\"\n",
            "_________________________________________________________________\n",
            " Layer (type)                Output Shape              Param #   \n",
            "=================================================================\n",
            " embedding (Embedding)       (None, 8, 10)             100000    \n",
            "                                                                 \n",
            "=================================================================\n",
            "Total params: 100,000\n",
            "Trainable params: 100,000\n",
            "Non-trainable params: 0\n",
            "_________________________________________________________________\n"
          ]
        }
      ]
    },
    {
      "cell_type": "code",
      "source": [
        "embedded_docs[0]"
      ],
      "metadata": {
        "colab": {
          "base_uri": "https://localhost:8080/"
        },
        "id": "zu127XQGM_j0",
        "outputId": "06e8eb98-298e-4b6f-d339-84b2c907906b"
      },
      "execution_count": 21,
      "outputs": [
        {
          "output_type": "execute_result",
          "data": {
            "text/plain": [
              "array([   0,    0,    0,    0,  867,  889, 7829, 6749], dtype=int32)"
            ]
          },
          "metadata": {},
          "execution_count": 21
        }
      ]
    },
    {
      "cell_type": "code",
      "source": [
        "model.predict(embedded_docs[0])"
      ],
      "metadata": {
        "colab": {
          "base_uri": "https://localhost:8080/"
        },
        "id": "m4zavlTROtzg",
        "outputId": "dc2a9e44-0131-454f-d951-280cf3dee2c3"
      },
      "execution_count": 22,
      "outputs": [
        {
          "output_type": "stream",
          "name": "stderr",
          "text": [
            "WARNING:tensorflow:Model was constructed with shape (None, 8) for input KerasTensor(type_spec=TensorSpec(shape=(None, 8), dtype=tf.float32, name='embedding_input'), name='embedding_input', description=\"created by layer 'embedding_input'\"), but it was called on an input with incompatible shape (None,).\n"
          ]
        },
        {
          "output_type": "stream",
          "name": "stdout",
          "text": [
            "1/1 [==============================] - 0s 67ms/step\n"
          ]
        },
        {
          "output_type": "execute_result",
          "data": {
            "text/plain": [
              "array([[-0.04246173, -0.03769623, -0.02114524, -0.00351321,  0.02587256,\n",
              "        -0.01694406, -0.02158269, -0.0322715 ,  0.00411537,  0.03544719],\n",
              "       [-0.04246173, -0.03769623, -0.02114524, -0.00351321,  0.02587256,\n",
              "        -0.01694406, -0.02158269, -0.0322715 ,  0.00411537,  0.03544719],\n",
              "       [-0.04246173, -0.03769623, -0.02114524, -0.00351321,  0.02587256,\n",
              "        -0.01694406, -0.02158269, -0.0322715 ,  0.00411537,  0.03544719],\n",
              "       [-0.04246173, -0.03769623, -0.02114524, -0.00351321,  0.02587256,\n",
              "        -0.01694406, -0.02158269, -0.0322715 ,  0.00411537,  0.03544719],\n",
              "       [ 0.04533596, -0.04599954, -0.04598931, -0.01257852, -0.02486931,\n",
              "        -0.02233322, -0.01748972, -0.02890341,  0.03268435,  0.03347627],\n",
              "       [-0.01333181,  0.0330374 , -0.00902902, -0.04756595, -0.01291931,\n",
              "        -0.01275225, -0.01924024, -0.00728086, -0.02739395,  0.00232355],\n",
              "       [ 0.03913425, -0.01936635,  0.00581615, -0.03025356,  0.04211301,\n",
              "         0.01996988,  0.04078902,  0.02401792, -0.01395752, -0.01649178],\n",
              "       [ 0.00920218,  0.01630146, -0.04081953, -0.02802962, -0.03795896,\n",
              "        -0.00889772,  0.04310418, -0.03472483, -0.02305852, -0.03683446]],\n",
              "      dtype=float32)"
            ]
          },
          "metadata": {},
          "execution_count": 22
        }
      ]
    },
    {
      "cell_type": "code",
      "source": [
        "print(model.predict(embedded_docs))"
      ],
      "metadata": {
        "colab": {
          "base_uri": "https://localhost:8080/"
        },
        "id": "TbV6MS_1OzJb",
        "outputId": "e568b3a8-5063-471d-a876-91ab51ebab5d"
      },
      "execution_count": 23,
      "outputs": [
        {
          "output_type": "stream",
          "name": "stdout",
          "text": [
            "1/1 [==============================] - 0s 33ms/step\n",
            "[[[-0.04246173 -0.03769623 -0.02114524 -0.00351321  0.02587256\n",
            "   -0.01694406 -0.02158269 -0.0322715   0.00411537  0.03544719]\n",
            "  [-0.04246173 -0.03769623 -0.02114524 -0.00351321  0.02587256\n",
            "   -0.01694406 -0.02158269 -0.0322715   0.00411537  0.03544719]\n",
            "  [-0.04246173 -0.03769623 -0.02114524 -0.00351321  0.02587256\n",
            "   -0.01694406 -0.02158269 -0.0322715   0.00411537  0.03544719]\n",
            "  [-0.04246173 -0.03769623 -0.02114524 -0.00351321  0.02587256\n",
            "   -0.01694406 -0.02158269 -0.0322715   0.00411537  0.03544719]\n",
            "  [ 0.04533596 -0.04599954 -0.04598931 -0.01257852 -0.02486931\n",
            "   -0.02233322 -0.01748972 -0.02890341  0.03268435  0.03347627]\n",
            "  [-0.01333181  0.0330374  -0.00902902 -0.04756595 -0.01291931\n",
            "   -0.01275225 -0.01924024 -0.00728086 -0.02739395  0.00232355]\n",
            "  [ 0.03913425 -0.01936635  0.00581615 -0.03025356  0.04211301\n",
            "    0.01996988  0.04078902  0.02401792 -0.01395752 -0.01649178]\n",
            "  [ 0.00920218  0.01630146 -0.04081953 -0.02802962 -0.03795896\n",
            "   -0.00889772  0.04310418 -0.03472483 -0.02305852 -0.03683446]]\n",
            "\n",
            " [[-0.04246173 -0.03769623 -0.02114524 -0.00351321  0.02587256\n",
            "   -0.01694406 -0.02158269 -0.0322715   0.00411537  0.03544719]\n",
            "  [-0.04246173 -0.03769623 -0.02114524 -0.00351321  0.02587256\n",
            "   -0.01694406 -0.02158269 -0.0322715   0.00411537  0.03544719]\n",
            "  [-0.04246173 -0.03769623 -0.02114524 -0.00351321  0.02587256\n",
            "   -0.01694406 -0.02158269 -0.0322715   0.00411537  0.03544719]\n",
            "  [-0.04246173 -0.03769623 -0.02114524 -0.00351321  0.02587256\n",
            "   -0.01694406 -0.02158269 -0.0322715   0.00411537  0.03544719]\n",
            "  [ 0.04533596 -0.04599954 -0.04598931 -0.01257852 -0.02486931\n",
            "   -0.02233322 -0.01748972 -0.02890341  0.03268435  0.03347627]\n",
            "  [-0.01333181  0.0330374  -0.00902902 -0.04756595 -0.01291931\n",
            "   -0.01275225 -0.01924024 -0.00728086 -0.02739395  0.00232355]\n",
            "  [ 0.03913425 -0.01936635  0.00581615 -0.03025356  0.04211301\n",
            "    0.01996988  0.04078902  0.02401792 -0.01395752 -0.01649178]\n",
            "  [-0.04792101  0.03616338 -0.01945497 -0.01681362  0.00702233\n",
            "   -0.00943499  0.01898754  0.02722862  0.03420217 -0.04307346]]\n",
            "\n",
            " [[-0.04246173 -0.03769623 -0.02114524 -0.00351321  0.02587256\n",
            "   -0.01694406 -0.02158269 -0.0322715   0.00411537  0.03544719]\n",
            "  [-0.04246173 -0.03769623 -0.02114524 -0.00351321  0.02587256\n",
            "   -0.01694406 -0.02158269 -0.0322715   0.00411537  0.03544719]\n",
            "  [-0.04246173 -0.03769623 -0.02114524 -0.00351321  0.02587256\n",
            "   -0.01694406 -0.02158269 -0.0322715   0.00411537  0.03544719]\n",
            "  [-0.04246173 -0.03769623 -0.02114524 -0.00351321  0.02587256\n",
            "   -0.01694406 -0.02158269 -0.0322715   0.00411537  0.03544719]\n",
            "  [ 0.04533596 -0.04599954 -0.04598931 -0.01257852 -0.02486931\n",
            "   -0.02233322 -0.01748972 -0.02890341  0.03268435  0.03347627]\n",
            "  [ 0.01600412  0.04167802  0.0394624  -0.02679415  0.03622473\n",
            "   -0.0252117   0.00807954 -0.0007913  -0.00700422  0.03723883]\n",
            "  [ 0.03913425 -0.01936635  0.00581615 -0.03025356  0.04211301\n",
            "    0.01996988  0.04078902  0.02401792 -0.01395752 -0.01649178]\n",
            "  [ 0.01264645 -0.01810628  0.04633096 -0.03455714  0.02723671\n",
            "   -0.0458633  -0.02578838  0.0001637   0.00213162  0.03184265]]\n",
            "\n",
            " [[-0.04246173 -0.03769623 -0.02114524 -0.00351321  0.02587256\n",
            "   -0.01694406 -0.02158269 -0.0322715   0.00411537  0.03544719]\n",
            "  [-0.04246173 -0.03769623 -0.02114524 -0.00351321  0.02587256\n",
            "   -0.01694406 -0.02158269 -0.0322715   0.00411537  0.03544719]\n",
            "  [-0.04246173 -0.03769623 -0.02114524 -0.00351321  0.02587256\n",
            "   -0.01694406 -0.02158269 -0.0322715   0.00411537  0.03544719]\n",
            "  [ 0.0417173   0.03797502  0.00580735  0.04625985 -0.01878176\n",
            "   -0.00219054  0.04962904  0.00623517 -0.04380161  0.03306159]\n",
            "  [ 0.03977263 -0.00870916  0.02820985  0.02931631  0.02380458\n",
            "    0.04550264  0.02046287 -0.00050379 -0.03183605 -0.00699864]\n",
            "  [-0.02806966 -0.00941207 -0.01992421  0.00747242 -0.01445649\n",
            "   -0.04099604  0.00458881  0.00467154  0.03457925 -0.00204688]\n",
            "  [-0.02589764 -0.01739854 -0.0361215  -0.03430021 -0.02899337\n",
            "    0.00426015 -0.01631262  0.00359027 -0.04592444  0.03624373]\n",
            "  [-0.04451391 -0.016145    0.00545108  0.0152672   0.01470417\n",
            "   -0.02718868  0.01572906 -0.02668678  0.01456746 -0.01955707]]\n",
            "\n",
            " [[-0.04246173 -0.03769623 -0.02114524 -0.00351321  0.02587256\n",
            "   -0.01694406 -0.02158269 -0.0322715   0.00411537  0.03544719]\n",
            "  [-0.04246173 -0.03769623 -0.02114524 -0.00351321  0.02587256\n",
            "   -0.01694406 -0.02158269 -0.0322715   0.00411537  0.03544719]\n",
            "  [-0.04246173 -0.03769623 -0.02114524 -0.00351321  0.02587256\n",
            "   -0.01694406 -0.02158269 -0.0322715   0.00411537  0.03544719]\n",
            "  [ 0.0417173   0.03797502  0.00580735  0.04625985 -0.01878176\n",
            "   -0.00219054  0.04962904  0.00623517 -0.04380161  0.03306159]\n",
            "  [ 0.03977263 -0.00870916  0.02820985  0.02931631  0.02380458\n",
            "    0.04550264  0.02046287 -0.00050379 -0.03183605 -0.00699864]\n",
            "  [-0.02806966 -0.00941207 -0.01992421  0.00747242 -0.01445649\n",
            "   -0.04099604  0.00458881  0.00467154  0.03457925 -0.00204688]\n",
            "  [-0.02589764 -0.01739854 -0.0361215  -0.03430021 -0.02899337\n",
            "    0.00426015 -0.01631262  0.00359027 -0.04592444  0.03624373]\n",
            "  [ 0.01997537  0.00287852 -0.00238057  0.03994985  0.03283628\n",
            "    0.00151013 -0.04024785  0.01819183  0.03530432 -0.01342889]]\n",
            "\n",
            " [[-0.04246173 -0.03769623 -0.02114524 -0.00351321  0.02587256\n",
            "   -0.01694406 -0.02158269 -0.0322715   0.00411537  0.03544719]\n",
            "  [-0.04246173 -0.03769623 -0.02114524 -0.00351321  0.02587256\n",
            "   -0.01694406 -0.02158269 -0.0322715   0.00411537  0.03544719]\n",
            "  [-0.04246173 -0.03769623 -0.02114524 -0.00351321  0.02587256\n",
            "   -0.01694406 -0.02158269 -0.0322715   0.00411537  0.03544719]\n",
            "  [-0.04640117  0.0433589  -0.03005431  0.00391667 -0.01259242\n",
            "   -0.0470302  -0.03519402 -0.04555295 -0.03227558 -0.02901044]\n",
            "  [ 0.04533596 -0.04599954 -0.04598931 -0.01257852 -0.02486931\n",
            "   -0.02233322 -0.01748972 -0.02890341  0.03268435  0.03347627]\n",
            "  [-0.03985758  0.04578147  0.03473986 -0.03934041  0.02991868\n",
            "    0.04324117  0.01232515 -0.00642765 -0.04521538 -0.00697588]\n",
            "  [ 0.03913425 -0.01936635  0.00581615 -0.03025356  0.04211301\n",
            "    0.01996988  0.04078902  0.02401792 -0.01395752 -0.01649178]\n",
            "  [-0.02449042 -0.04271852  0.02886676 -0.03122332  0.01000474\n",
            "   -0.01402327 -0.02256669 -0.02369427 -0.00647483 -0.03294368]]\n",
            "\n",
            " [[-0.04246173 -0.03769623 -0.02114524 -0.00351321  0.02587256\n",
            "   -0.01694406 -0.02158269 -0.0322715   0.00411537  0.03544719]\n",
            "  [-0.04246173 -0.03769623 -0.02114524 -0.00351321  0.02587256\n",
            "   -0.01694406 -0.02158269 -0.0322715   0.00411537  0.03544719]\n",
            "  [-0.04246173 -0.03769623 -0.02114524 -0.00351321  0.02587256\n",
            "   -0.01694406 -0.02158269 -0.0322715   0.00411537  0.03544719]\n",
            "  [-0.04246173 -0.03769623 -0.02114524 -0.00351321  0.02587256\n",
            "   -0.01694406 -0.02158269 -0.0322715   0.00411537  0.03544719]\n",
            "  [ 0.01972927  0.01079388 -0.03916739  0.04618782  0.02899741\n",
            "    0.0355783   0.03345912  0.02338263 -0.04369117 -0.04139386]\n",
            "  [ 0.03977447  0.04692358 -0.03099599  0.00309446 -0.04112749\n",
            "   -0.04433993  0.02257086  0.01562938 -0.01969122 -0.00998447]\n",
            "  [-0.01273704 -0.04411649 -0.01127915  0.02436927 -0.02150273\n",
            "    0.02713915  0.02249921  0.02037019 -0.0051031  -0.04764643]\n",
            "  [-0.02589764 -0.01739854 -0.0361215  -0.03430021 -0.02899337\n",
            "    0.00426015 -0.01631262  0.00359027 -0.04592444  0.03624373]]]\n"
          ]
        }
      ]
    },
    {
      "cell_type": "code",
      "source": [
        "### Assignment\n",
        "\n",
        "sent1=[\"The world is a better place\",\n",
        "      \"Marvel series is my favourite movie\",\n",
        "      \"I like DC movies\",\n",
        "      \"the cat is eating the food\",\n",
        "      \"Tom and Jerry is my favourite movie\",\n",
        "      \"Python is my favourite programming language\"\n",
        "      ]"
      ],
      "metadata": {
        "id": "vLzZCUYJPG2g"
      },
      "execution_count": 24,
      "outputs": []
    },
    {
      "cell_type": "code",
      "source": [
        "sent1"
      ],
      "metadata": {
        "colab": {
          "base_uri": "https://localhost:8080/"
        },
        "id": "HRfh2BeWPvHP",
        "outputId": "3b42bd32-7d57-4131-b304-2e1308519bb4"
      },
      "execution_count": 25,
      "outputs": [
        {
          "output_type": "execute_result",
          "data": {
            "text/plain": [
              "['The world is a better place',\n",
              " 'Marvel series is my favourite movie',\n",
              " 'I like DC movies',\n",
              " 'the cat is eating the food',\n",
              " 'Tom and Jerry is my favourite movie',\n",
              " 'Python is my favourite programming language']"
            ]
          },
          "metadata": {},
          "execution_count": 25
        }
      ]
    },
    {
      "cell_type": "code",
      "source": [
        "## vocabulary size\n",
        "voc_size = 5000"
      ],
      "metadata": {
        "id": "w1_P7Zp7PxLY"
      },
      "execution_count": 28,
      "outputs": []
    },
    {
      "cell_type": "code",
      "source": [
        "onehot_repr1 = [one_hot(words,voc_size)for words in sent]\n",
        "print(onehot_repr1)"
      ],
      "metadata": {
        "colab": {
          "base_uri": "https://localhost:8080/"
        },
        "id": "d2bs2W2aP3Ty",
        "outputId": "3dfb9ac9-9b80-4fb8-b6eb-38c327ddfd54"
      },
      "execution_count": 29,
      "outputs": [
        {
          "output_type": "stream",
          "name": "stdout",
          "text": [
            "[[951, 1095, 563, 3971], [951, 1095, 563, 965], [951, 2164, 563, 638], [1943, 1152, 174, 2964, 2477], [1943, 1152, 174, 2964, 1348], [630, 951, 878, 563, 1746], [649, 722, 2707, 2964]]\n"
          ]
        }
      ]
    },
    {
      "cell_type": "code",
      "source": [
        "from tensorflow.keras.layers import Embedding\n",
        "from tensorflow.keras.preprocessing.sequence import pad_sequences\n",
        "from tensorflow.keras.models import Sequential"
      ],
      "metadata": {
        "id": "qqbjiD-5QOco"
      },
      "execution_count": 30,
      "outputs": []
    },
    {
      "cell_type": "code",
      "source": [
        "import numpy as np"
      ],
      "metadata": {
        "id": "qRzbRQCBQoKm"
      },
      "execution_count": 31,
      "outputs": []
    },
    {
      "cell_type": "code",
      "source": [
        "sent_length=10\n",
        "embedded_docs1=pad_sequences(onehot_repr1,padding='pre',maxlen=sent_length)\n",
        "print(embedded_docs1)"
      ],
      "metadata": {
        "colab": {
          "base_uri": "https://localhost:8080/"
        },
        "id": "X-OwcMSQQq8z",
        "outputId": "7a49a8b1-f0e5-4bb7-9d85-788f480bc4ef"
      },
      "execution_count": 32,
      "outputs": [
        {
          "output_type": "stream",
          "name": "stdout",
          "text": [
            "[[   0    0    0    0    0    0  951 1095  563 3971]\n",
            " [   0    0    0    0    0    0  951 1095  563  965]\n",
            " [   0    0    0    0    0    0  951 2164  563  638]\n",
            " [   0    0    0    0    0 1943 1152  174 2964 2477]\n",
            " [   0    0    0    0    0 1943 1152  174 2964 1348]\n",
            " [   0    0    0    0    0  630  951  878  563 1746]\n",
            " [   0    0    0    0    0    0  649  722 2707 2964]]\n"
          ]
        }
      ]
    },
    {
      "cell_type": "code",
      "source": [
        "dim=10"
      ],
      "metadata": {
        "id": "dutWhh7hQ8j_"
      },
      "execution_count": 33,
      "outputs": []
    },
    {
      "cell_type": "code",
      "source": [
        "model=Sequential()\n",
        "model.add(Embedding(voc_size,10,input_length=sent_length))\n",
        "model.compile('adam','mse')"
      ],
      "metadata": {
        "id": "NvV4tAiAUJP4"
      },
      "execution_count": 34,
      "outputs": []
    },
    {
      "cell_type": "code",
      "source": [
        "model.summary()"
      ],
      "metadata": {
        "colab": {
          "base_uri": "https://localhost:8080/"
        },
        "id": "-Sgxg5j2UcD-",
        "outputId": "391b295f-5d11-4f44-bc20-750fc9d12a81"
      },
      "execution_count": 36,
      "outputs": [
        {
          "output_type": "stream",
          "name": "stdout",
          "text": [
            "Model: \"sequential_1\"\n",
            "_________________________________________________________________\n",
            " Layer (type)                Output Shape              Param #   \n",
            "=================================================================\n",
            " embedding_1 (Embedding)     (None, 10, 10)            50000     \n",
            "                                                                 \n",
            "=================================================================\n",
            "Total params: 50,000\n",
            "Trainable params: 50,000\n",
            "Non-trainable params: 0\n",
            "_________________________________________________________________\n"
          ]
        }
      ]
    },
    {
      "cell_type": "code",
      "source": [
        "print(model.predict(embedded_docs1))"
      ],
      "metadata": {
        "colab": {
          "base_uri": "https://localhost:8080/"
        },
        "id": "cc60I54EUenp",
        "outputId": "22fec18d-28a1-47f5-e83d-5b5e64f111bb"
      },
      "execution_count": 37,
      "outputs": [
        {
          "output_type": "stream",
          "name": "stdout",
          "text": [
            "1/1 [==============================] - 0s 38ms/step\n",
            "[[[ 0.0278947   0.03872026 -0.00589031  0.00571404 -0.01949387\n",
            "    0.00929886 -0.00017401  0.04171706 -0.00448577  0.02367464]\n",
            "  [ 0.0278947   0.03872026 -0.00589031  0.00571404 -0.01949387\n",
            "    0.00929886 -0.00017401  0.04171706 -0.00448577  0.02367464]\n",
            "  [ 0.0278947   0.03872026 -0.00589031  0.00571404 -0.01949387\n",
            "    0.00929886 -0.00017401  0.04171706 -0.00448577  0.02367464]\n",
            "  [ 0.0278947   0.03872026 -0.00589031  0.00571404 -0.01949387\n",
            "    0.00929886 -0.00017401  0.04171706 -0.00448577  0.02367464]\n",
            "  [ 0.0278947   0.03872026 -0.00589031  0.00571404 -0.01949387\n",
            "    0.00929886 -0.00017401  0.04171706 -0.00448577  0.02367464]\n",
            "  [ 0.0278947   0.03872026 -0.00589031  0.00571404 -0.01949387\n",
            "    0.00929886 -0.00017401  0.04171706 -0.00448577  0.02367464]\n",
            "  [ 0.02696211 -0.00918621 -0.04543326 -0.02420766 -0.04886384\n",
            "    0.00342915  0.01754621 -0.02890314 -0.04962314 -0.014431  ]\n",
            "  [ 0.04793025 -0.00680728  0.04893715 -0.01515356  0.02483473\n",
            "   -0.03297335 -0.02756002  0.03261707 -0.04993122 -0.00292137]\n",
            "  [ 0.00978875  0.01978893  0.00155754  0.01642548  0.04917945\n",
            "   -0.04235619  0.02607013 -0.00303764 -0.04001906  0.03813198]\n",
            "  [-0.02034397 -0.00926694 -0.03989679  0.00779883  0.04017944\n",
            "   -0.03279338 -0.01086722  0.02533258 -0.01054589 -0.02059197]]\n",
            "\n",
            " [[ 0.0278947   0.03872026 -0.00589031  0.00571404 -0.01949387\n",
            "    0.00929886 -0.00017401  0.04171706 -0.00448577  0.02367464]\n",
            "  [ 0.0278947   0.03872026 -0.00589031  0.00571404 -0.01949387\n",
            "    0.00929886 -0.00017401  0.04171706 -0.00448577  0.02367464]\n",
            "  [ 0.0278947   0.03872026 -0.00589031  0.00571404 -0.01949387\n",
            "    0.00929886 -0.00017401  0.04171706 -0.00448577  0.02367464]\n",
            "  [ 0.0278947   0.03872026 -0.00589031  0.00571404 -0.01949387\n",
            "    0.00929886 -0.00017401  0.04171706 -0.00448577  0.02367464]\n",
            "  [ 0.0278947   0.03872026 -0.00589031  0.00571404 -0.01949387\n",
            "    0.00929886 -0.00017401  0.04171706 -0.00448577  0.02367464]\n",
            "  [ 0.0278947   0.03872026 -0.00589031  0.00571404 -0.01949387\n",
            "    0.00929886 -0.00017401  0.04171706 -0.00448577  0.02367464]\n",
            "  [ 0.02696211 -0.00918621 -0.04543326 -0.02420766 -0.04886384\n",
            "    0.00342915  0.01754621 -0.02890314 -0.04962314 -0.014431  ]\n",
            "  [ 0.04793025 -0.00680728  0.04893715 -0.01515356  0.02483473\n",
            "   -0.03297335 -0.02756002  0.03261707 -0.04993122 -0.00292137]\n",
            "  [ 0.00978875  0.01978893  0.00155754  0.01642548  0.04917945\n",
            "   -0.04235619  0.02607013 -0.00303764 -0.04001906  0.03813198]\n",
            "  [ 0.03370941  0.00552906  0.00669739 -0.0298901  -0.02059468\n",
            "    0.04301775 -0.04640725 -0.02179703  0.00491973  0.00595073]]\n",
            "\n",
            " [[ 0.0278947   0.03872026 -0.00589031  0.00571404 -0.01949387\n",
            "    0.00929886 -0.00017401  0.04171706 -0.00448577  0.02367464]\n",
            "  [ 0.0278947   0.03872026 -0.00589031  0.00571404 -0.01949387\n",
            "    0.00929886 -0.00017401  0.04171706 -0.00448577  0.02367464]\n",
            "  [ 0.0278947   0.03872026 -0.00589031  0.00571404 -0.01949387\n",
            "    0.00929886 -0.00017401  0.04171706 -0.00448577  0.02367464]\n",
            "  [ 0.0278947   0.03872026 -0.00589031  0.00571404 -0.01949387\n",
            "    0.00929886 -0.00017401  0.04171706 -0.00448577  0.02367464]\n",
            "  [ 0.0278947   0.03872026 -0.00589031  0.00571404 -0.01949387\n",
            "    0.00929886 -0.00017401  0.04171706 -0.00448577  0.02367464]\n",
            "  [ 0.0278947   0.03872026 -0.00589031  0.00571404 -0.01949387\n",
            "    0.00929886 -0.00017401  0.04171706 -0.00448577  0.02367464]\n",
            "  [ 0.02696211 -0.00918621 -0.04543326 -0.02420766 -0.04886384\n",
            "    0.00342915  0.01754621 -0.02890314 -0.04962314 -0.014431  ]\n",
            "  [ 0.00048727  0.04473443  0.01818368 -0.01169871 -0.03544299\n",
            "   -0.02147566  0.00237188  0.04308165 -0.03871631  0.0387536 ]\n",
            "  [ 0.00978875  0.01978893  0.00155754  0.01642548  0.04917945\n",
            "   -0.04235619  0.02607013 -0.00303764 -0.04001906  0.03813198]\n",
            "  [-0.02790096 -0.02063232  0.02921429  0.04973004  0.03140341\n",
            "   -0.01100243  0.04578682  0.04482523 -0.04302608  0.00672829]]\n",
            "\n",
            " [[ 0.0278947   0.03872026 -0.00589031  0.00571404 -0.01949387\n",
            "    0.00929886 -0.00017401  0.04171706 -0.00448577  0.02367464]\n",
            "  [ 0.0278947   0.03872026 -0.00589031  0.00571404 -0.01949387\n",
            "    0.00929886 -0.00017401  0.04171706 -0.00448577  0.02367464]\n",
            "  [ 0.0278947   0.03872026 -0.00589031  0.00571404 -0.01949387\n",
            "    0.00929886 -0.00017401  0.04171706 -0.00448577  0.02367464]\n",
            "  [ 0.0278947   0.03872026 -0.00589031  0.00571404 -0.01949387\n",
            "    0.00929886 -0.00017401  0.04171706 -0.00448577  0.02367464]\n",
            "  [ 0.0278947   0.03872026 -0.00589031  0.00571404 -0.01949387\n",
            "    0.00929886 -0.00017401  0.04171706 -0.00448577  0.02367464]\n",
            "  [-0.01904454  0.04813901  0.005635    0.03654758  0.0255136\n",
            "    0.00746118 -0.00699238 -0.00185453 -0.02707113 -0.03041729]\n",
            "  [ 0.00130957  0.0019022  -0.00576784  0.03527023  0.0349874\n",
            "    0.04386181 -0.01612784  0.02421035 -0.01663538 -0.00667249]\n",
            "  [ 0.04481964  0.02064354  0.04342845  0.01571173  0.02051747\n",
            "    0.04058162 -0.04160892  0.00433117 -0.01535287 -0.03205793]\n",
            "  [-0.01840933  0.0357409  -0.02340792 -0.03963559  0.04774268\n",
            "   -0.0241866  -0.01004002 -0.049385    0.02854845  0.03562948]\n",
            "  [ 0.03016514  0.03858497  0.01463865  0.01865712 -0.01377641\n",
            "   -0.02465181 -0.02810247 -0.01558472 -0.04538295 -0.02275171]]\n",
            "\n",
            " [[ 0.0278947   0.03872026 -0.00589031  0.00571404 -0.01949387\n",
            "    0.00929886 -0.00017401  0.04171706 -0.00448577  0.02367464]\n",
            "  [ 0.0278947   0.03872026 -0.00589031  0.00571404 -0.01949387\n",
            "    0.00929886 -0.00017401  0.04171706 -0.00448577  0.02367464]\n",
            "  [ 0.0278947   0.03872026 -0.00589031  0.00571404 -0.01949387\n",
            "    0.00929886 -0.00017401  0.04171706 -0.00448577  0.02367464]\n",
            "  [ 0.0278947   0.03872026 -0.00589031  0.00571404 -0.01949387\n",
            "    0.00929886 -0.00017401  0.04171706 -0.00448577  0.02367464]\n",
            "  [ 0.0278947   0.03872026 -0.00589031  0.00571404 -0.01949387\n",
            "    0.00929886 -0.00017401  0.04171706 -0.00448577  0.02367464]\n",
            "  [-0.01904454  0.04813901  0.005635    0.03654758  0.0255136\n",
            "    0.00746118 -0.00699238 -0.00185453 -0.02707113 -0.03041729]\n",
            "  [ 0.00130957  0.0019022  -0.00576784  0.03527023  0.0349874\n",
            "    0.04386181 -0.01612784  0.02421035 -0.01663538 -0.00667249]\n",
            "  [ 0.04481964  0.02064354  0.04342845  0.01571173  0.02051747\n",
            "    0.04058162 -0.04160892  0.00433117 -0.01535287 -0.03205793]\n",
            "  [-0.01840933  0.0357409  -0.02340792 -0.03963559  0.04774268\n",
            "   -0.0241866  -0.01004002 -0.049385    0.02854845  0.03562948]\n",
            "  [-0.03665683 -0.04909888 -0.03655208  0.01589543 -0.01470994\n",
            "   -0.01065958 -0.0320877   0.02940116  0.00217247  0.01784733]]\n",
            "\n",
            " [[ 0.0278947   0.03872026 -0.00589031  0.00571404 -0.01949387\n",
            "    0.00929886 -0.00017401  0.04171706 -0.00448577  0.02367464]\n",
            "  [ 0.0278947   0.03872026 -0.00589031  0.00571404 -0.01949387\n",
            "    0.00929886 -0.00017401  0.04171706 -0.00448577  0.02367464]\n",
            "  [ 0.0278947   0.03872026 -0.00589031  0.00571404 -0.01949387\n",
            "    0.00929886 -0.00017401  0.04171706 -0.00448577  0.02367464]\n",
            "  [ 0.0278947   0.03872026 -0.00589031  0.00571404 -0.01949387\n",
            "    0.00929886 -0.00017401  0.04171706 -0.00448577  0.02367464]\n",
            "  [ 0.0278947   0.03872026 -0.00589031  0.00571404 -0.01949387\n",
            "    0.00929886 -0.00017401  0.04171706 -0.00448577  0.02367464]\n",
            "  [ 0.0244455   0.01840636  0.02745131  0.02472651 -0.03281019\n",
            "   -0.03614431  0.04496742  0.00856453 -0.01238199  0.01051098]\n",
            "  [ 0.02696211 -0.00918621 -0.04543326 -0.02420766 -0.04886384\n",
            "    0.00342915  0.01754621 -0.02890314 -0.04962314 -0.014431  ]\n",
            "  [-0.03574617 -0.02120101  0.02298421  0.00287656 -0.0209419\n",
            "   -0.02379663  0.01304312  0.0292195   0.02285248  0.03252139]\n",
            "  [ 0.00978875  0.01978893  0.00155754  0.01642548  0.04917945\n",
            "   -0.04235619  0.02607013 -0.00303764 -0.04001906  0.03813198]\n",
            "  [-0.04663272  0.03958547  0.00420395  0.00791065  0.03423356\n",
            "   -0.01904759 -0.03374115  0.02720536 -0.04486315 -0.024735  ]]\n",
            "\n",
            " [[ 0.0278947   0.03872026 -0.00589031  0.00571404 -0.01949387\n",
            "    0.00929886 -0.00017401  0.04171706 -0.00448577  0.02367464]\n",
            "  [ 0.0278947   0.03872026 -0.00589031  0.00571404 -0.01949387\n",
            "    0.00929886 -0.00017401  0.04171706 -0.00448577  0.02367464]\n",
            "  [ 0.0278947   0.03872026 -0.00589031  0.00571404 -0.01949387\n",
            "    0.00929886 -0.00017401  0.04171706 -0.00448577  0.02367464]\n",
            "  [ 0.0278947   0.03872026 -0.00589031  0.00571404 -0.01949387\n",
            "    0.00929886 -0.00017401  0.04171706 -0.00448577  0.02367464]\n",
            "  [ 0.0278947   0.03872026 -0.00589031  0.00571404 -0.01949387\n",
            "    0.00929886 -0.00017401  0.04171706 -0.00448577  0.02367464]\n",
            "  [ 0.0278947   0.03872026 -0.00589031  0.00571404 -0.01949387\n",
            "    0.00929886 -0.00017401  0.04171706 -0.00448577  0.02367464]\n",
            "  [-0.03146648  0.00520711  0.01523781  0.01572325  0.01401844\n",
            "   -0.04631748 -0.02852664 -0.04945966 -0.0274937  -0.03010168]\n",
            "  [ 0.02632592  0.00943254 -0.02598512 -0.0171731  -0.04980836\n",
            "    0.04526646  0.04504729 -0.04852915 -0.0001415  -0.02605078]\n",
            "  [-0.00775953  0.0252155  -0.03004048 -0.02322443  0.02953443\n",
            "   -0.00566609  0.01881491 -0.04338264 -0.00735378 -0.02763921]\n",
            "  [-0.01840933  0.0357409  -0.02340792 -0.03963559  0.04774268\n",
            "   -0.0241866  -0.01004002 -0.049385    0.02854845  0.03562948]]]\n"
          ]
        }
      ]
    },
    {
      "cell_type": "code",
      "source": [],
      "metadata": {
        "id": "-WXZz6DYUop8"
      },
      "execution_count": null,
      "outputs": []
    }
  ]
}
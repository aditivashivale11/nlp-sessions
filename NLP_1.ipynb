{
  "nbformat": 4,
  "nbformat_minor": 0,
  "metadata": {
    "colab": {
      "provenance": [],
      "authorship_tag": "ABX9TyOjbPc1TGzyr1Sk9mPtpciF",
      "include_colab_link": true
    },
    "kernelspec": {
      "name": "python3",
      "display_name": "Python 3"
    },
    "language_info": {
      "name": "python"
    }
  },
  "cells": [
    {
      "cell_type": "markdown",
      "metadata": {
        "id": "view-in-github",
        "colab_type": "text"
      },
      "source": [
        "<a href=\"https://colab.research.google.com/github/aditivashivale11/nlp-sessions/blob/main/NLP_1.ipynb\" target=\"_parent\"><img src=\"https://colab.research.google.com/assets/colab-badge.svg\" alt=\"Open In Colab\"/></a>"
      ]
    },
    {
      "cell_type": "code",
      "execution_count": 1,
      "metadata": {
        "colab": {
          "base_uri": "https://localhost:8080/"
        },
        "id": "XGRKHdxuIiDT",
        "outputId": "1878010d-8670-4e4e-af92-9c2deb8ea4e2"
      },
      "outputs": [
        {
          "output_type": "stream",
          "name": "stdout",
          "text": [
            "Requirement already satisfied: nltk in /usr/local/lib/python3.10/dist-packages (3.9.1)\n",
            "Requirement already satisfied: click in /usr/local/lib/python3.10/dist-packages (from nltk) (8.1.7)\n",
            "Requirement already satisfied: joblib in /usr/local/lib/python3.10/dist-packages (from nltk) (1.4.2)\n",
            "Requirement already satisfied: regex>=2021.8.3 in /usr/local/lib/python3.10/dist-packages (from nltk) (2024.9.11)\n",
            "Requirement already satisfied: tqdm in /usr/local/lib/python3.10/dist-packages (from nltk) (4.66.6)\n"
          ]
        }
      ],
      "source": [
        "!pip install nltk"
      ]
    },
    {
      "cell_type": "code",
      "source": [
        "paragraph = \"\"\"\n",
        "Natural language processing (NLP) is a field of computer science and a subfield of artificial intelligence that aims to make computers understand human language. NLP uses computational linguistics, which is the study of how language works, and various models based on statistics, machine learning, and deep learning. These technologies allow computers to analyze and process text or voice data, and to grasp their full meaning, including the speaker’s or writer’s intentions and emotions.\n",
        "\n",
        "NLP powers many applications that use language, such as text translation, voice recognition, text summarization, and chatbots. You may have used some of these applications yourself, such as voice-operated GPS systems, digital assistants, speech-to-text software, and customer service bots. NLP also helps businesses improve their efficiency, productivity, and performance by simplifying complex tasks that involve language.\n",
        "\"\"\""
      ],
      "metadata": {
        "id": "Q3B7MPGYIt76"
      },
      "execution_count": 2,
      "outputs": []
    },
    {
      "cell_type": "code",
      "source": [
        "paragraph"
      ],
      "metadata": {
        "colab": {
          "base_uri": "https://localhost:8080/",
          "height": 122
        },
        "id": "0s_ETcqlI9G3",
        "outputId": "6e411a3c-9a38-4547-ea47-8cc95d2d16ca"
      },
      "execution_count": 3,
      "outputs": [
        {
          "output_type": "execute_result",
          "data": {
            "text/plain": [
              "'\\nNatural language processing (NLP) is a field of computer science and a subfield of artificial intelligence that aims to make computers understand human language. NLP uses computational linguistics, which is the study of how language works, and various models based on statistics, machine learning, and deep learning. These technologies allow computers to analyze and process text or voice data, and to grasp their full meaning, including the speaker’s or writer’s intentions and emotions.\\n\\nNLP powers many applications that use language, such as text translation, voice recognition, text summarization, and chatbots. You may have used some of these applications yourself, such as voice-operated GPS systems, digital assistants, speech-to-text software, and customer service bots. NLP also helps businesses improve their efficiency, productivity, and performance by simplifying complex tasks that involve language.\\n'"
            ],
            "application/vnd.google.colaboratory.intrinsic+json": {
              "type": "string"
            }
          },
          "metadata": {},
          "execution_count": 3
        }
      ]
    },
    {
      "cell_type": "code",
      "source": [
        "import nltk\n",
        "from nltk.stem import PorterStemmer\n",
        "from nltk.corpus import stopwords"
      ],
      "metadata": {
        "id": "qoHH-C7KI_gm"
      },
      "execution_count": 4,
      "outputs": []
    },
    {
      "cell_type": "code",
      "source": [
        "## tokenization - convert para into sentence - words\n",
        "nltk.download('punkt_tab')\n",
        "sentences = nltk.sent_tokenize(paragraph)"
      ],
      "metadata": {
        "colab": {
          "base_uri": "https://localhost:8080/"
        },
        "id": "eEMGDCgUJjqd",
        "outputId": "3df2562a-e420-430b-d811-4fcb4ba3328d"
      },
      "execution_count": 9,
      "outputs": [
        {
          "output_type": "stream",
          "name": "stderr",
          "text": [
            "[nltk_data] Downloading package punkt_tab to /root/nltk_data...\n",
            "[nltk_data]   Unzipping tokenizers/punkt_tab.zip.\n"
          ]
        }
      ]
    },
    {
      "cell_type": "code",
      "source": [
        "print(sentences)"
      ],
      "metadata": {
        "id": "g5UxtmfqJvRZ",
        "outputId": "7872882a-7c7d-489f-a105-126bece6869b",
        "colab": {
          "base_uri": "https://localhost:8080/"
        }
      },
      "execution_count": 10,
      "outputs": [
        {
          "output_type": "stream",
          "name": "stdout",
          "text": [
            "['\\nNatural language processing (NLP) is a field of computer science and a subfield of artificial intelligence that aims to make computers understand human language.', 'NLP uses computational linguistics, which is the study of how language works, and various models based on statistics, machine learning, and deep learning.', 'These technologies allow computers to analyze and process text or voice data, and to grasp their full meaning, including the speaker’s or writer’s intentions and emotions.', 'NLP powers many applications that use language, such as text translation, voice recognition, text summarization, and chatbots.', 'You may have used some of these applications yourself, such as voice-operated GPS systems, digital assistants, speech-to-text software, and customer service bots.', 'NLP also helps businesses improve their efficiency, productivity, and performance by simplifying complex tasks that involve language.']\n"
          ]
        }
      ]
    },
    {
      "cell_type": "code",
      "source": [
        "stemmer = PorterStemmer()"
      ],
      "metadata": {
        "id": "K933Xc5tKwnY"
      },
      "execution_count": 11,
      "outputs": []
    },
    {
      "cell_type": "code",
      "source": [
        "stemmer.stem('finalizes')"
      ],
      "metadata": {
        "id": "daqj2zlsLVDQ",
        "outputId": "b8d3b10e-6f81-4868-da16-f5e0684b11d4",
        "colab": {
          "base_uri": "https://localhost:8080/",
          "height": 35
        }
      },
      "execution_count": 13,
      "outputs": [
        {
          "output_type": "execute_result",
          "data": {
            "text/plain": [
              "'final'"
            ],
            "application/vnd.google.colaboratory.intrinsic+json": {
              "type": "string"
            }
          },
          "metadata": {},
          "execution_count": 13
        }
      ]
    },
    {
      "cell_type": "code",
      "source": [],
      "metadata": {
        "id": "tzc3FOqlMjdo"
      },
      "execution_count": null,
      "outputs": []
    },
    {
      "cell_type": "code",
      "source": [
        "nltk.download('wordnet')"
      ],
      "metadata": {
        "id": "4n1fUSf9MjP9",
        "outputId": "9f6409c4-23a7-4501-d8b6-2b73533520bc",
        "colab": {
          "base_uri": "https://localhost:8080/"
        }
      },
      "execution_count": 19,
      "outputs": [
        {
          "output_type": "stream",
          "name": "stderr",
          "text": [
            "[nltk_data] Downloading package wordnet to /root/nltk_data...\n"
          ]
        },
        {
          "output_type": "execute_result",
          "data": {
            "text/plain": [
              "True"
            ]
          },
          "metadata": {},
          "execution_count": 19
        }
      ]
    },
    {
      "cell_type": "code",
      "source": [
        "from nltk.stem import WordNetLemmatizer\n"
      ],
      "metadata": {
        "id": "QsXcQADHLaQH"
      },
      "execution_count": 20,
      "outputs": []
    },
    {
      "cell_type": "code",
      "source": [
        "lemmatizer = WordNetLemmatizer()"
      ],
      "metadata": {
        "id": "Qu0j6XveL-vF"
      },
      "execution_count": 21,
      "outputs": []
    },
    {
      "cell_type": "code",
      "source": [
        "lemmatizer.lemmatize('historical')"
      ],
      "metadata": {
        "id": "M3ijjVEQMDhR",
        "outputId": "6226e486-24ea-4003-a456-3979f38b9496",
        "colab": {
          "base_uri": "https://localhost:8080/",
          "height": 35
        }
      },
      "execution_count": 23,
      "outputs": [
        {
          "output_type": "execute_result",
          "data": {
            "text/plain": [
              "'historical'"
            ],
            "application/vnd.google.colaboratory.intrinsic+json": {
              "type": "string"
            }
          },
          "metadata": {},
          "execution_count": 23
        }
      ]
    },
    {
      "cell_type": "code",
      "source": [
        "len(sentences)"
      ],
      "metadata": {
        "id": "k0lM_XXHMMcj",
        "outputId": "a095ab63-812d-4208-fab9-6165debc2032",
        "colab": {
          "base_uri": "https://localhost:8080/"
        }
      },
      "execution_count": 24,
      "outputs": [
        {
          "output_type": "execute_result",
          "data": {
            "text/plain": [
              "6"
            ]
          },
          "metadata": {},
          "execution_count": 24
        }
      ]
    },
    {
      "cell_type": "code",
      "source": [
        "import re"
      ],
      "metadata": {
        "id": "zXgKN52HNE0Q"
      },
      "execution_count": 25,
      "outputs": []
    },
    {
      "cell_type": "code",
      "source": [
        "corpus=[]\n",
        "for i in range(len(sentences)):\n",
        "  review=re.sub('[^a-zA-Z]' ,' ', sentences[i])\n",
        "  review=review.lower()\n",
        "  corpus.append(review)"
      ],
      "metadata": {
        "id": "SgINwRVsNmrJ"
      },
      "execution_count": 26,
      "outputs": []
    },
    {
      "cell_type": "code",
      "source": [
        "corpus"
      ],
      "metadata": {
        "id": "nyvSJfjuOVcH",
        "outputId": "d96cb808-2ff0-441c-b939-3272272c3e16",
        "colab": {
          "base_uri": "https://localhost:8080/"
        }
      },
      "execution_count": 27,
      "outputs": [
        {
          "output_type": "execute_result",
          "data": {
            "text/plain": [
              "[' natural language processing  nlp  is a field of computer science and a subfield of artificial intelligence that aims to make computers understand human language ',\n",
              " 'nlp uses computational linguistics  which is the study of how language works  and various models based on statistics  machine learning  and deep learning ',\n",
              " 'these technologies allow computers to analyze and process text or voice data  and to grasp their full meaning  including the speaker s or writer s intentions and emotions ',\n",
              " 'nlp powers many applications that use language  such as text translation  voice recognition  text summarization  and chatbots ',\n",
              " 'you may have used some of these applications yourself  such as voice operated gps systems  digital assistants  speech to text software  and customer service bots ',\n",
              " 'nlp also helps businesses improve their efficiency  productivity  and performance by simplifying complex tasks that involve language ']"
            ]
          },
          "metadata": {},
          "execution_count": 27
        }
      ]
    },
    {
      "cell_type": "code",
      "source": [
        "nltk.download('stopwords')"
      ],
      "metadata": {
        "id": "ZNt9YOFVPyWT",
        "outputId": "d118b18b-b1f9-41f3-bc03-da49a8c67916",
        "colab": {
          "base_uri": "https://localhost:8080/"
        }
      },
      "execution_count": 29,
      "outputs": [
        {
          "output_type": "stream",
          "name": "stderr",
          "text": [
            "[nltk_data] Downloading package stopwords to /root/nltk_data...\n",
            "[nltk_data]   Unzipping corpora/stopwords.zip.\n"
          ]
        },
        {
          "output_type": "execute_result",
          "data": {
            "text/plain": [
              "True"
            ]
          },
          "metadata": {},
          "execution_count": 29
        }
      ]
    },
    {
      "cell_type": "code",
      "source": [
        "## stemming\n",
        "for i in corpus:\n",
        "  words=nltk.word_tokenize(i)\n",
        "  for word in words:\n",
        "    if word not in set(stopwords.words('english')):\n",
        "      print(stemmer.stem(word))"
      ],
      "metadata": {
        "id": "6UiuIVZ3OcEs",
        "outputId": "83a74c9e-0251-4a85-db56-6b070b390dac",
        "colab": {
          "base_uri": "https://localhost:8080/"
        }
      },
      "execution_count": 30,
      "outputs": [
        {
          "output_type": "stream",
          "name": "stdout",
          "text": [
            "natur\n",
            "languag\n",
            "process\n",
            "nlp\n",
            "field\n",
            "comput\n",
            "scienc\n",
            "subfield\n",
            "artifici\n",
            "intellig\n",
            "aim\n",
            "make\n",
            "comput\n",
            "understand\n",
            "human\n",
            "languag\n",
            "nlp\n",
            "use\n",
            "comput\n",
            "linguist\n",
            "studi\n",
            "languag\n",
            "work\n",
            "variou\n",
            "model\n",
            "base\n",
            "statist\n",
            "machin\n",
            "learn\n",
            "deep\n",
            "learn\n",
            "technolog\n",
            "allow\n",
            "comput\n",
            "analyz\n",
            "process\n",
            "text\n",
            "voic\n",
            "data\n",
            "grasp\n",
            "full\n",
            "mean\n",
            "includ\n",
            "speaker\n",
            "writer\n",
            "intent\n",
            "emot\n",
            "nlp\n",
            "power\n",
            "mani\n",
            "applic\n",
            "use\n",
            "languag\n",
            "text\n",
            "translat\n",
            "voic\n",
            "recognit\n",
            "text\n",
            "summar\n",
            "chatbot\n",
            "may\n",
            "use\n",
            "applic\n",
            "voic\n",
            "oper\n",
            "gp\n",
            "system\n",
            "digit\n",
            "assist\n",
            "speech\n",
            "text\n",
            "softwar\n",
            "custom\n",
            "servic\n",
            "bot\n",
            "nlp\n",
            "also\n",
            "help\n",
            "busi\n",
            "improv\n",
            "effici\n",
            "product\n",
            "perform\n",
            "simplifi\n",
            "complex\n",
            "task\n",
            "involv\n",
            "languag\n"
          ]
        }
      ]
    },
    {
      "cell_type": "code",
      "source": [
        "## Lemmatization\n",
        "for i in corpus:\n",
        "  words=nltk.word_tokenize(i)\n",
        "  for word in words:\n",
        "    if word not in set(stopwords.words('english')):\n",
        "      print(lemmatizer.lemmatize(word))"
      ],
      "metadata": {
        "id": "lCw_14sJPdtE",
        "outputId": "60a11bde-b47e-401f-fd52-deb5a91c4365",
        "colab": {
          "base_uri": "https://localhost:8080/"
        }
      },
      "execution_count": 31,
      "outputs": [
        {
          "output_type": "stream",
          "name": "stdout",
          "text": [
            "natural\n",
            "language\n",
            "processing\n",
            "nlp\n",
            "field\n",
            "computer\n",
            "science\n",
            "subfield\n",
            "artificial\n",
            "intelligence\n",
            "aim\n",
            "make\n",
            "computer\n",
            "understand\n",
            "human\n",
            "language\n",
            "nlp\n",
            "us\n",
            "computational\n",
            "linguistics\n",
            "study\n",
            "language\n",
            "work\n",
            "various\n",
            "model\n",
            "based\n",
            "statistic\n",
            "machine\n",
            "learning\n",
            "deep\n",
            "learning\n",
            "technology\n",
            "allow\n",
            "computer\n",
            "analyze\n",
            "process\n",
            "text\n",
            "voice\n",
            "data\n",
            "grasp\n",
            "full\n",
            "meaning\n",
            "including\n",
            "speaker\n",
            "writer\n",
            "intention\n",
            "emotion\n",
            "nlp\n",
            "power\n",
            "many\n",
            "application\n",
            "use\n",
            "language\n",
            "text\n",
            "translation\n",
            "voice\n",
            "recognition\n",
            "text\n",
            "summarization\n",
            "chatbots\n",
            "may\n",
            "used\n",
            "application\n",
            "voice\n",
            "operated\n",
            "gps\n",
            "system\n",
            "digital\n",
            "assistant\n",
            "speech\n",
            "text\n",
            "software\n",
            "customer\n",
            "service\n",
            "bot\n",
            "nlp\n",
            "also\n",
            "help\n",
            "business\n",
            "improve\n",
            "efficiency\n",
            "productivity\n",
            "performance\n",
            "simplifying\n",
            "complex\n",
            "task\n",
            "involve\n",
            "language\n"
          ]
        }
      ]
    },
    {
      "cell_type": "code",
      "source": [
        "import re\n",
        "corpus=[]\n",
        "for i in range (len(sentences)):\n",
        "  review=re.sub('[^a-zA-Z]' ,' ', sentences[i])\n",
        "  review=review.lower()\n",
        "  review=review.split()\n",
        "  review=[lemmatizer.lemmatize(word) for word in review if not word in set(stopwords.words('english'))]\n",
        "  review=' '.join(review)\n",
        "  corpus.append(review)\n"
      ],
      "metadata": {
        "id": "3mYembOxS-aF"
      },
      "execution_count": 43,
      "outputs": []
    },
    {
      "cell_type": "code",
      "source": [
        "from sklearn.feature_extraction.text import CountVectorizer\n",
        "cv = CountVectorizer(binary=True)"
      ],
      "metadata": {
        "id": "-A5U-0tcQtQu"
      },
      "execution_count": 44,
      "outputs": []
    },
    {
      "cell_type": "code",
      "source": [
        "X=cv.fit_transform(corpus)"
      ],
      "metadata": {
        "id": "rTabLh93RaI4"
      },
      "execution_count": 45,
      "outputs": []
    },
    {
      "cell_type": "code",
      "source": [
        "cv.vocabulary_"
      ],
      "metadata": {
        "id": "MQgCkpsiRfjz",
        "outputId": "afa294bc-a616-4e2b-985d-dd0331eb799d",
        "colab": {
          "base_uri": "https://localhost:8080/"
        }
      },
      "execution_count": 46,
      "outputs": [
        {
          "output_type": "execute_result",
          "data": {
            "text/plain": [
              "{'natural': 40,\n",
              " 'language': 31,\n",
              " 'processing': 46,\n",
              " 'nlp': 41,\n",
              " 'field': 20,\n",
              " 'computer': 13,\n",
              " 'science': 49,\n",
              " 'subfield': 57,\n",
              " 'artificial': 5,\n",
              " 'intelligence': 28,\n",
              " 'aim': 0,\n",
              " 'make': 35,\n",
              " 'understand': 64,\n",
              " 'human': 25,\n",
              " 'us': 65,\n",
              " 'computational': 12,\n",
              " 'linguistics': 33,\n",
              " 'study': 56,\n",
              " 'work': 70,\n",
              " 'various': 68,\n",
              " 'model': 39,\n",
              " 'based': 7,\n",
              " 'statistic': 55,\n",
              " 'machine': 34,\n",
              " 'learning': 32,\n",
              " 'deep': 16,\n",
              " 'technology': 61,\n",
              " 'allow': 1,\n",
              " 'analyze': 3,\n",
              " 'process': 45,\n",
              " 'text': 62,\n",
              " 'voice': 69,\n",
              " 'data': 15,\n",
              " 'grasp': 23,\n",
              " 'full': 21,\n",
              " 'meaning': 38,\n",
              " 'including': 27,\n",
              " 'speaker': 53,\n",
              " 'writer': 71,\n",
              " 'intention': 29,\n",
              " 'emotion': 19,\n",
              " 'power': 44,\n",
              " 'many': 36,\n",
              " 'application': 4,\n",
              " 'use': 66,\n",
              " 'translation': 63,\n",
              " 'recognition': 48,\n",
              " 'summarization': 58,\n",
              " 'chatbots': 10,\n",
              " 'may': 37,\n",
              " 'used': 67,\n",
              " 'operated': 42,\n",
              " 'gps': 22,\n",
              " 'system': 59,\n",
              " 'digital': 17,\n",
              " 'assistant': 6,\n",
              " 'speech': 54,\n",
              " 'software': 52,\n",
              " 'customer': 14,\n",
              " 'service': 50,\n",
              " 'bot': 8,\n",
              " 'also': 2,\n",
              " 'help': 24,\n",
              " 'business': 9,\n",
              " 'improve': 26,\n",
              " 'efficiency': 18,\n",
              " 'productivity': 47,\n",
              " 'performance': 43,\n",
              " 'simplifying': 51,\n",
              " 'complex': 11,\n",
              " 'task': 60,\n",
              " 'involve': 30}"
            ]
          },
          "metadata": {},
          "execution_count": 46
        }
      ]
    },
    {
      "cell_type": "code",
      "source": [
        "corpus[0]"
      ],
      "metadata": {
        "id": "fI2gjO4vRkH7",
        "outputId": "ba06b427-bd5a-4dd3-a2bb-e7e79cf3c128",
        "colab": {
          "base_uri": "https://localhost:8080/",
          "height": 35
        }
      },
      "execution_count": 47,
      "outputs": [
        {
          "output_type": "execute_result",
          "data": {
            "text/plain": [
              "'natural language processing nlp field computer science subfield artificial intelligence aim make computer understand human language'"
            ],
            "application/vnd.google.colaboratory.intrinsic+json": {
              "type": "string"
            }
          },
          "metadata": {},
          "execution_count": 47
        }
      ]
    },
    {
      "cell_type": "code",
      "source": [
        "X[0].toarray()"
      ],
      "metadata": {
        "id": "Z9HiYVjdR4oV",
        "outputId": "873df984-421f-43fa-be31-82788e11eb58",
        "colab": {
          "base_uri": "https://localhost:8080/"
        }
      },
      "execution_count": 42,
      "outputs": [
        {
          "output_type": "execute_result",
          "data": {
            "text/plain": [
              "array([[1, 0, 0, 0, 1, 0, 1, 0, 0, 0, 0, 0, 0, 0, 0, 0, 1, 1, 0, 0, 0, 0,\n",
              "        0, 0, 1, 0, 0, 0, 0, 0, 0, 1, 0, 0, 1, 0, 0, 1, 1, 0, 0, 0, 1, 0,\n",
              "        0, 0, 0, 1, 1, 1, 0, 0, 0, 0, 0, 0, 1, 0, 0, 1, 0, 0, 0, 0, 0, 0,\n",
              "        0, 0, 1, 0, 0, 0, 0, 0, 0, 1, 0, 0, 0, 1, 0, 1, 0, 0, 0, 0, 0, 0,\n",
              "        0, 0, 0, 0]])"
            ]
          },
          "metadata": {},
          "execution_count": 42
        }
      ]
    },
    {
      "cell_type": "code",
      "source": [],
      "metadata": {
        "id": "6IKnDepfSEa3"
      },
      "execution_count": null,
      "outputs": []
    }
  ]
}